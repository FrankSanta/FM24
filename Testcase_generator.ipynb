{
 "cells": [
  {
   "cell_type": "markdown",
   "source": [
    "# Parametric Scenario Generation"
   ],
   "metadata": {
    "id": "dCvvhlOZylgX",
    "pycharm": {
     "name": "#%% md\n"
    }
   }
  },
  {
   "cell_type": "code",
   "execution_count": null,
   "metadata": {
    "id": "5zngwxqG79On",
    "pycharm": {
     "name": "#%%\n"
    }
   },
   "outputs": [],
   "source": [
    "import numpy as np\n",
    "import matplotlib.pyplot as plt\n",
    "from ipywidgets import IntSlider\n",
    "from ipywidgets import SelectionSlider\n",
    "import random"
   ]
  },
  {
   "cell_type": "markdown",
   "source": [
    "## Use the sliders to select the parameters of the model"
   ],
   "metadata": {
    "id": "K8akndWAyySj",
    "pycharm": {
     "name": "#%% md\n"
    }
   }
  },
  {
   "cell_type": "code",
   "execution_count": null,
   "metadata": {
    "colab": {
     "base_uri": "https://localhost:8080/",
     "height": 259,
     "referenced_widgets": [
      "1cb2620fad834b7ebd11c6e7d58b1b58",
      "28a08d2b756f4e129520a09f3563382c",
      "70dc84126fae41ec92d97f3b74f724e2",
      "1ba19be445824251a729e4aea37bcb0d",
      "87587329eb84421fa61fae5f09504abf",
      "7a7aa1a27b0b48c3b0733ff01a9ed1d8",
      "439442024e6f4838908a1e3c005ceac0",
      "d7b810e306544078ba190757c335273d",
      "7bd7040ae28c4c0898c3d5a81c935ed6",
      "61a90790f9ac458589ea822f321a063c",
      "625d6d6f08154e0b9bac0198498be6c0",
      "edcb0e0a70f9463895c955298ac0c9de",
      "cb1e5587aaa8480d86a22c699cc5ce6e",
      "1a9a711599684ffdb74f2e8b5ee2bdf8",
      "6b09c77ef84448ee90397599a729526f",
      "bc183c963de347ec92df0f1b62180b51",
      "0ea201f0556d4ba3b5462f153c24fd37",
      "9cca9fbc336f4a438b21cc12bcbc282d",
      "dff405aa25ce484f9a626599f092ea15",
      "70659090c4ac466b898d665d94d30161",
      "d072e7476a4349c28661140e5333c6b0",
      "6b7c42e3148f4f1a8fbdb625cf173a6d",
      "553d06955f554c5989db4d1f03ab34de",
      "7cb139ef9c2440f8b9fb5b751769e518"
     ]
    },
    "id": "ECvZZ3jc8dEc",
    "outputId": "0d1f0357-9698-457b-d8e8-afa9e1b57362",
    "pycharm": {
     "name": "#%%\n"
    }
   },
   "outputs": [
    {
     "output_type": "display_data",
     "data": {
      "text/plain": [
       "IntSlider(value=10, description='N', max=30, min=1)"
      ],
      "application/vnd.jupyter.widget-view+json": {
       "version_major": 2,
       "version_minor": 0,
       "model_id": "1cb2620fad834b7ebd11c6e7d58b1b58"
      }
     },
     "metadata": {}
    },
    {
     "output_type": "display_data",
     "data": {
      "text/plain": [
       "IntSlider(value=10, description='M', max=30, min=1)"
      ],
      "application/vnd.jupyter.widget-view+json": {
       "version_major": 2,
       "version_minor": 0,
       "model_id": "1ba19be445824251a729e4aea37bcb0d"
      }
     },
     "metadata": {}
    },
    {
     "output_type": "display_data",
     "data": {
      "text/plain": [
       "IntSlider(value=5, description='fire', max=20, min=1)"
      ],
      "application/vnd.jupyter.widget-view+json": {
       "version_major": 2,
       "version_minor": 0,
       "model_id": "439442024e6f4838908a1e3c005ceac0"
      }
     },
     "metadata": {}
    },
    {
     "output_type": "display_data",
     "data": {
      "text/plain": [
       "IntSlider(value=5, description='first responders', max=20, min=1)"
      ],
      "application/vnd.jupyter.widget-view+json": {
       "version_major": 2,
       "version_minor": 0,
       "model_id": "61a90790f9ac458589ea822f321a063c"
      }
     },
     "metadata": {}
    },
    {
     "output_type": "display_data",
     "data": {
      "text/plain": [
       "IntSlider(value=5, description='victims', max=20, min=1)"
      ],
      "application/vnd.jupyter.widget-view+json": {
       "version_major": 2,
       "version_minor": 0,
       "model_id": "cb1e5587aaa8480d86a22c699cc5ce6e"
      }
     },
     "metadata": {}
    },
    {
     "output_type": "display_data",
     "data": {
      "text/plain": [
       "IntSlider(value=5, description='civilians', max=20, min=1)"
      ],
      "application/vnd.jupyter.widget-view+json": {
       "version_major": 2,
       "version_minor": 0,
       "model_id": "bc183c963de347ec92df0f1b62180b51"
      }
     },
     "metadata": {}
    },
    {
     "output_type": "display_data",
     "data": {
      "text/plain": [
       "SelectionSlider(description='drones', options=(1, 2, 4), value=1)"
      ],
      "application/vnd.jupyter.widget-view+json": {
       "version_major": 2,
       "version_minor": 0,
       "model_id": "dff405aa25ce484f9a626599f092ea15"
      }
     },
     "metadata": {}
    },
    {
     "output_type": "display_data",
     "data": {
      "text/plain": [
       "SelectionSlider(description='exit', index=1, options=(1, 2, 4), value=2)"
      ],
      "application/vnd.jupyter.widget-view+json": {
       "version_major": 2,
       "version_minor": 0,
       "model_id": "6b7c42e3148f4f1a8fbdb625cf173a6d"
      }
     },
     "metadata": {}
    }
   ],
   "source": [
    "N_slider = IntSlider(min=1, max=30, description='N', value = 10)\n",
    "M_slider = IntSlider(min=1, max=30, description='M', value = 10)\n",
    "fire_slider = IntSlider(min=1, max=20, description='fire', value = 5)\n",
    "first_responder_slider = IntSlider(min=1, max=20, description='first responders', value = 5)\n",
    "survivors_slider = IntSlider(min=1, max=20, description='civilians', value = 5)\n",
    "victims_slider = IntSlider(min=1, max=20, description='victims', value = 5)\n",
    "exit_slider = SelectionSlider(\n",
    "    options=[1, 2, 4],\n",
    "    description='exit',\n",
    "    value=2\n",
    ")\n",
    "drones_slider = SelectionSlider(\n",
    "    options=[1, 2, 4],\n",
    "    description='drones',\n",
    "    value=1  # Default value\n",
    ")\n",
    "\n",
    "# Display the sliders.\n",
    "display(N_slider, M_slider, fire_slider, first_responder_slider, victims_slider, survivors_slider, drones_slider, exit_slider)\n",
    "\n",
    "def update_N(change):\n",
    "  global N\n",
    "  N = change.new\n",
    "def update_M(change):\n",
    "  global M\n",
    "  M = change.new\n",
    "def update_fire(change):\n",
    "  global fire\n",
    "  fire = change.new\n",
    "def update_first_responder(change):\n",
    "  global first_responder\n",
    "  first_responder = change.new\n",
    "\n",
    "def update_survivors(change):\n",
    "  global survivors\n",
    "  survivors = change.new\n",
    "\n",
    "def update_victims(change):\n",
    "  global victims\n",
    "  victims = change.new\n",
    "\n",
    "def update_drones(change):\n",
    "  global drones\n",
    "  drones = change.new\n",
    "\n",
    "def update_visibilities(change):\n",
    "  global visibilities\n",
    "  if drones == 1:\n",
    "    visibilities = [visibility_sliders[0].value]\n",
    "  elif drones == 2:\n",
    "    visibilities = [visibility_sliders[0].value, visibility_sliders[1].value]\n",
    "  else:\n",
    "    visibilities = [visibility_sliders[0].value, visibility_sliders[1].value, visibility_sliders[2].value, visibility_sliders[3].value]\n",
    "\n",
    "def update_exit(change):\n",
    "  global exit\n",
    "  exit = change.new\n",
    "\n",
    "N = N_slider.value\n",
    "M = M_slider.value\n",
    "fire = fire_slider.value\n",
    "first_responder = first_responder_slider.value\n",
    "survivors = survivors_slider.value\n",
    "victims = victims_slider.value\n",
    "drones = drones_slider.value\n",
    "exit = exit_slider.value\n",
    "\n",
    "N_slider.observe(update_N, names='value')\n",
    "M_slider.observe(update_M, names='value')\n",
    "fire_slider.observe(update_fire, names='value')\n",
    "first_responder_slider.observe(update_first_responder, names='value')\n",
    "survivors_slider.observe(update_survivors, names='value')\n",
    "victims_slider.observe(update_victims, names='value')\n",
    "drones_slider.observe(update_drones, names='value')\n",
    "exit_slider.observe(update_exit, names='value')"
   ]
  },
  {
   "cell_type": "code",
   "execution_count": null,
   "metadata": {
    "colab": {
     "base_uri": "https://localhost:8080/",
     "height": 49,
     "referenced_widgets": [
      "5d692386ba8c4178bc5cbd428a246fc7",
      "d5a619a2b7bc4000a255388077031f47",
      "0169682315e24b4087def3f20b5da86c"
     ]
    },
    "id": "JUkeWhVHIbsw",
    "outputId": "fd84cf79-b9bf-493d-e9d2-7ea68042e2ca",
    "pycharm": {
     "name": "#%%\n"
    }
   },
   "outputs": [
    {
     "output_type": "display_data",
     "data": {
      "text/plain": [
       "IntSlider(value=2, description='visibility 0', max=5, min=1)"
      ],
      "application/vnd.jupyter.widget-view+json": {
       "version_major": 2,
       "version_minor": 0,
       "model_id": "5d692386ba8c4178bc5cbd428a246fc7"
      }
     },
     "metadata": {}
    }
   ],
   "source": [
    "visibility_sliders = []\n",
    "visibilities = []\n",
    "for i in range(drones):\n",
    "  visibility_sliders.append(IntSlider(min=1, max=5, description='visibility '+str(i), value = 2))\n",
    "  visibilities.append(visibility_sliders[i].value)\n",
    "  visibility_sliders[i].observe(update_visibilities, names='value')\n",
    "\n",
    "display(*visibility_sliders)"
   ]
  },
  {
   "cell_type": "markdown",
   "source": [
    "⚠ If the number of sliders do not correspond with the number of drones re run te cell above"
   ],
   "metadata": {
    "id": "3Df3v9XZy4ZO",
    "pycharm": {
     "name": "#%% md\n"
    }
   }
  },
  {
   "cell_type": "markdown",
   "source": [
    "## Generate the model"
   ],
   "metadata": {
    "id": "twla2u_9zajD",
    "pycharm": {
     "name": "#%% md\n"
    }
   }
  },
  {
   "cell_type": "markdown",
   "source": [
    "### Plase the drones"
   ],
   "metadata": {
    "id": "w6MS4Ww1zjTi",
    "pycharm": {
     "name": "#%% md\n"
    }
   }
  },
  {
   "cell_type": "code",
   "execution_count": null,
   "metadata": {
    "colab": {
     "base_uri": "https://localhost:8080/"
    },
    "id": "e6YBGSEUPdYI",
    "outputId": "fd50ca6d-7d70-41bd-c932-2234ac8a6f04",
    "pycharm": {
     "name": "#%%\n"
    }
   },
   "outputs": [
    {
     "output_type": "execute_result",
     "data": {
      "text/plain": [
       "([2], [(2, 2, 7, 7)], [(2, 2)])"
      ]
     },
     "metadata": {},
     "execution_count": 15
    }
   ],
   "source": [
    "drones_positions = []\n",
    "\n",
    "x_half = N//2\n",
    "y_half = M//2\n",
    "\n",
    "bounds = []\n",
    "\n",
    "if drones == 1:\n",
    "  vis = visibilities[0]\n",
    "  bounds.append((vis,vis, N-1-vis, M-1-vis))\n",
    "\n",
    "if drones == 2:\n",
    "  vis1 = visibilities[0]\n",
    "  vis2 = visibilities[1]\n",
    "  bounds.append((vis1, vis1,        N-1-vis1, y_half-vis1))\n",
    "  bounds.append((vis2, y_half+vis2, N-1-vis2, M-1-vis2))\n",
    "\n",
    "if drones == 4:\n",
    "  vis1 = visibilities[0]\n",
    "  vis2 = visibilities[1]\n",
    "  vis3 = visibilities[2]\n",
    "  vis4 = visibilities[3]\n",
    "  bounds.append((vis1,        vis1,        x_half-vis1, y_half-vis1))\n",
    "  bounds.append((vis2,        y_half+vis2, x_half-vis2, M-1-vis2))\n",
    "  bounds.append((x_half+vis3, vis3,        N-1-vis3,    y_half-vis3))\n",
    "  bounds.append((x_half+vis4, y_half+vis4, N-1-vis4,    M-1-vis4))\n",
    "\n",
    "for b in bounds:\n",
    "  drones_positions.append((b[0], b[1]))\n",
    "\n",
    "visibilities, bounds, drones_positions"
   ]
  },
  {
   "cell_type": "markdown",
   "source": [
    "### Create room with fire and exits"
   ],
   "metadata": {
    "id": "iyzrIHSQzl-u",
    "pycharm": {
     "name": "#%% md\n"
    }
   }
  },
  {
   "cell_type": "code",
   "source": [
    "fire_map = np.zeros((N, M)) #reset map\n",
    "\n",
    "def random_position():\n",
    "  row = np.random.randint(0, N)\n",
    "  col = np.random.randint(0, M)\n",
    "  return row, col\n",
    "\n",
    "def neighbors(x, y):\n",
    "  neigh_x = np.clip([x-1, x, x+1], 0, N-1)\n",
    "  neigh_y = np.clip([y-1, y, y+1], 0, M-1)\n",
    "  neigh_coords = [(x_, y_) for x_ in neigh_x for y_ in neigh_y if (x_, y_) != (x,y)]\n",
    "\n",
    "  return neigh_coords\n",
    "\n",
    "def exit_near(x,y):\n",
    "  return any([fire_map[x_, y_] == exit_code for (x_,y_) in neighbors(x, y)])\n",
    "\n",
    "def manhattan_neighbors(x,y):\n",
    "  neigh_x = np.clip([x-1, x+1], 0, N-1)\n",
    "  neigh_y = np.clip([y-1, y+1], 0, M-1)\n",
    "  neigh_coords = [(neigh_x[0],y), (neigh_x[1],y), (x,neigh_y[0]), (x,neigh_y[1])]\n",
    "  return neigh_coords\n",
    "\n",
    "def fire_near(x,y):\n",
    "  return any([fire_map[x_, y_] == fire_code for (x_,y_) in manhattan_neighbors(x, y)])\n",
    "\n",
    "first_responder_code = -2\n",
    "civilian_code = -1\n",
    "fire_code = 1\n",
    "exit_code = 2\n",
    "\n",
    "# put fire and exit\n",
    "\n",
    "if exit == 1:\n",
    "  fire_map[fire_map.shape[0]//2, 0] = exit_code\n",
    "  fire_map[fire_map.shape[0]//2+1, 0] = exit_code\n",
    "if exit == 2:\n",
    "  fire_map[fire_map.shape[0]//2, 0] = exit_code\n",
    "  fire_map[fire_map.shape[0]//2+1, 0] = exit_code\n",
    "  fire_map[fire_map.shape[0]//2, -1] = exit_code\n",
    "  fire_map[fire_map.shape[0]//2+1, -1] = exit_code\n",
    "\n",
    "if exit == 4:\n",
    "  fire_map[fire_map.shape[0]//2, 0] = exit_code\n",
    "  fire_map[fire_map.shape[0]//2+1, 0] = exit_code\n",
    "  fire_map[fire_map.shape[0]//2, -1] = exit_code\n",
    "  fire_map[fire_map.shape[0]//2+1, -1] = exit_code\n",
    "  fire_map[0,fire_map.shape[1]//2] = exit_code\n",
    "  fire_map[0,fire_map.shape[1]//2+1] = exit_code\n",
    "  fire_map[-1,fire_map.shape[1]//2] = exit_code\n",
    "  fire_map[-1,fire_map.shape[1]//2+1] = exit_code\n",
    "\n",
    "# put fire\n",
    "for i in range(fire):\n",
    "  x,y = random_position()\n",
    "  while fire_map[x,y] != 0 or exit_near(x,y):\n",
    "    x,y = random_position()\n",
    "  fire_map[x,y] = fire_code\n",
    "  for x_, y_ in neighbors(x, y):\n",
    "    if random.random() < 0.8 and fire_map[x_, y_] == 0 and not exit_near(x_,y_):\n",
    "      fire_map[x_, y_] = fire_code"
   ],
   "metadata": {
    "id": "laU0FCM66wLK",
    "pycharm": {
     "name": "#%%\n"
    }
   },
   "execution_count": null,
   "outputs": []
  },
  {
   "cell_type": "markdown",
   "source": [
    "### Place entities"
   ],
   "metadata": {
    "id": "kFng1_Phzsz1",
    "pycharm": {
     "name": "#%% md\n"
    }
   }
  },
  {
   "cell_type": "code",
   "execution_count": null,
   "metadata": {
    "id": "mxQpMW5b9OSr",
    "pycharm": {
     "name": "#%%\n"
    }
   },
   "outputs": [],
   "source": [
    "victims_positions = []\n",
    "survivors_positions = []\n",
    "first_responder_positions = []\n",
    "\n",
    "fire_map[(fire_map != fire_code) & (fire_map != exit_code)] = 0\n",
    "\n",
    "#put survivors\n",
    "for i in range(survivors):\n",
    "  x,y = random_position()\n",
    "  while fire_map[x,y] != 0 or fire_near(x,y):\n",
    "    x,y = random_position()\n",
    "  fire_map[x,y] = civilian_code\n",
    "  survivors_positions.append((x,y))\n",
    "\n",
    "#put victims\n",
    "for i in range(victims):\n",
    "  x,y = random_position()\n",
    "  while fire_map[x,y] != 0 or not fire_near(x,y):\n",
    "    x,y = random_position()\n",
    "  fire_map[x,y] = civilian_code\n",
    "  victims_positions.append((x,y))\n",
    "\n",
    "#put 1st responders\n",
    "for i in range(first_responder):\n",
    "  x,y = random_position()\n",
    "  while fire_map[x,y] != 0:\n",
    "    x,y = random_position()\n",
    "  fire_map[x,y] = first_responder_code\n",
    "  first_responder_positions.append((x,y))"
   ]
  },
  {
   "cell_type": "markdown",
   "source": [
    "## Plot the map"
   ],
   "metadata": {
    "id": "3aiA-Xpwzwn3",
    "pycharm": {
     "name": "#%% md\n"
    }
   }
  },
  {
   "cell_type": "code",
   "execution_count": null,
   "metadata": {
    "id": "NFka50eh-yGa",
    "colab": {
     "base_uri": "https://localhost:8080/",
     "height": 406
    },
    "outputId": "1a60cf93-7764-4057-f9eb-efd2af97eacb",
    "pycharm": {
     "name": "#%%\n"
    }
   },
   "outputs": [
    {
     "output_type": "display_data",
     "data": {
      "text/plain": [
       "<Figure size 640x480 with 1 Axes>"
      ],
      "image/png": "[encoded data removed]"
     },
     "metadata": {}
    }
   ],
   "source": [
    "from matplotlib.colors import ListedColormap\n",
    "\n",
    "# Define a colormap\n",
    "my_cmap = ListedColormap(['blue', 'yellow','gray','red','green'])\n",
    "\n",
    "# Plot the colormap\n",
    "import matplotlib.pyplot as plt\n",
    "labels = ['First Responder', 'Civilian', 'Empty', 'Fire', 'Exit']\n",
    "\n",
    "# Create a patch (proxy artist) for every color\n",
    "patches = [ plt.plot([],[], marker=\"s\", ms=10, ls=\"\", mec=None, color=my_cmap(i),\n",
    "            label=\"{:s}\".format(labels[i]) )[0]  for i in range(len(labels)) ]\n",
    "\n",
    "\n",
    "plt.imshow(fire_map, cmap=my_cmap)\n",
    "if drones >= 2:\n",
    "  plt.axvline(x = M//2-0.5, color = 'black', linestyle='dotted')\n",
    "if drones >= 4:\n",
    "  plt.axhline(y = N//2-0.5, color = 'black', linestyle='dotted')\n",
    "plt.scatter([pos[1] for pos in drones_positions], [pos[0] for pos in drones_positions], c='black', marker='h', s=150, label = \"drone\")\n",
    "plt.scatter([pos[1] for pos in victims_positions], [pos[0] for pos in victims_positions], c='red', marker='x', s=50, label = \"victim\")\n",
    "plt.axis(\"off\")\n",
    "\n",
    "\n",
    "# Put those patched as legend-handles into the legend\n",
    "plt.legend(handles=patches, bbox_to_anchor=(1.05, 1), loc=2, borderaxespad=0. )\n",
    "\n",
    "plt.show()"
   ]
  },
  {
   "cell_type": "markdown",
   "source": [
    "## Generate File"
   ],
   "metadata": {
    "id": "Gdd3qdD3z1PG",
    "pycharm": {
     "name": "#%% md\n"
    }
   }
  },
  {
   "cell_type": "code",
   "execution_count": null,
   "metadata": {
    "id": "fuMt_QJhCDYu",
    "pycharm": {
     "name": "#%%\n"
    }
   },
   "outputs": [],
   "source": [
    "def matrix_to_C(matrix, filename):\n",
    "  with open(filename, 'w') as f:\n",
    "    f.write('/*#################### Declaration ####################\\nTHIS PORTION IS AUTOGENERATED */\\n\\n')\n",
    "    f.write(f\"\"\"const int N = {N};   // map rows\n",
    "const int M = {M};   // map columns\n",
    "typedef int[0,N] coordx_t;\n",
    "typedef int[0,M] coordy_t;\n",
    "\n",
    "// Entity amounts\n",
    "const int SURVIVORS_QTY = {survivors};\n",
    "const int VICTIMS_QTY = {victims};\n",
    "const int FIRST_RESPONDERS_QTY = {first_responder};\n",
    "const int DRONES_QTY = {drones};\n",
    "int[0,{max(survivors, victims, first_responder, drones)}] entities[4] = \"\"\" + \"\"\"{SURVIVORS_QTY, VICTIMS_QTY, FIRST_RESPONDERS_QTY, DRONES_QTY};\n",
    "\n",
    "// IDs\n",
    "typedef int[0,SURVIVORS_QTY-1] id_s_t;\n",
    "typedef int[0,VICTIMS_QTY-1] id_v_t;\n",
    "typedef int[0,FIRST_RESPONDERS_QTY-1] id_f_t;\n",
    "typedef int[0,DRONES_QTY-1] id_d_t;\n",
    "\n",
    "// Busy statuses\n",
    "bool survivors_busy[SURVIVORS_QTY];\n",
    "bool victims_busy[VICTIMS_QTY];\n",
    "bool responders_busy[FIRST_RESPONDERS_QTY];\n",
    "\n",
    "typedef struct {\n",
    "    coordx_t x;\n",
    "    coordy_t y;\n",
    "} pos_t;\n",
    "const pos_t pos_out_of_map = {N,M};\n",
    "\n",
    "typedef struct {\n",
    "    coordx_t min_x;\n",
    "    coordy_t min_y;\n",
    "    coordx_t max_x;\n",
    "    coordy_t max_y;\n",
    "} bounds_t;\"\"\")\n",
    "    f.write(\"// Positions for survivors, victims and first responders\\n\")\n",
    "    f.write(\"pos_t survivors[SURVIVORS_QTY] = {\")\n",
    "    for pos in survivors_positions[0:-1]:\n",
    "      f.write(\"{\"+str(pos[0])+\",\"+str(pos[1])+\"}, \")\n",
    "    f.write(\"{\"+str(survivors_positions[-1][0])+\",\"+str(survivors_positions[-1][1])+\"}};\\n\")\n",
    "\n",
    "    f.write(\"pos_t victims[VICTIMS_QTY] = {\")\n",
    "    for pos in victims_positions[0:-1]:\n",
    "      f.write(\"{\"+str(pos[0])+\",\"+str(pos[1])+\"}, \")\n",
    "    f.write(\"{\"+str(victims_positions[-1][0])+\",\"+str(victims_positions[-1][1])+\"}};\\n\")\n",
    "\n",
    "    f.write(\"pos_t responders[FIRST_RESPONDERS_QTY] = {\")\n",
    "    for pos in first_responder_positions[0:-1]:\n",
    "      f.write(\"{\"+str(pos[0])+\",\"+str(pos[1])+\"}, \")\n",
    "    f.write(\"{\"+str(first_responder_positions[-1][0])+\",\"+str(first_responder_positions[-1][1])+\"}};\\n\\n\")\n",
    "\n",
    "    f.write(\"// Positions and area bounds for drones\\n\")\n",
    "    f.write(\"pos_t drones[DRONES_QTY] = {\")\n",
    "    for pos in drones_positions[0:-1]:\n",
    "      f.write(\"{\"+str(pos[0])+\",\"+str(pos[1])+\"}, \")\n",
    "    f.write(\"{\"+str(drones_positions[-1][0])+\",\"+str(drones_positions[-1][1])+\"}};\\n\")\n",
    "\n",
    "    if drones == 1:\n",
    "          f.write(f\"bounds_t bounds[DRONES_QTY] = {{{{{bounds[0][0]} , {bounds[0][1]}, {bounds[0][2]}, {bounds[0][3]}}}}};\\n\")\n",
    "\n",
    "    elif drones == 2:\n",
    "      f.write(f\"bounds_t bounds[DRONES_QTY] = {{{{{bounds[0][0]} , {bounds[0][1]}, {bounds[0][2]}, {bounds[0][3]}}}, {{{bounds[1][0]} , {bounds[1][1]}, {bounds[1][2]}, {bounds[1][3]}}}}};\\n\")\n",
    "\n",
    "    elif drones == 4:\n",
    "      f.write(f\"bounds_t bounds[DRONES_QTY] = {{{{{bounds[0][0]} , {bounds[0][1]}, {bounds[0][2]}, {bounds[0][3]}}}, {{{bounds[1][0]} , {bounds[1][1]}, {bounds[1][2]}, {bounds[1][3]}}}, {{{bounds[2][0]} , {bounds[2][1]}, {bounds[2][2]}, {bounds[2][3]}}}, {{{bounds[3][0]} , {bounds[3][1]}, {bounds[3][2]}, {bounds[3][3]}}}}};\\n\")\n",
    "\n",
    "    f.write(f\"\"\"int[1,5] drones_visibilities[DRONES_QTY] = {{{\",\".join([str(vis) for vis in visibilities])}}};\\n\"\"\")\n",
    "    f.write(f\"\"\"int[0,100] p_fail[DRONES_QTY] = {{{\",\".join([str(10)]*drones)}}};\\n\"\"\")\n",
    "    f.write(f\"\"\"int[0,100] p_listen[SURVIVORS_QTY] = {{{\",\".join([str(85)]*survivors)}}};\"\"\")\n",
    "    f.write('\\nint[0,2] map[N][M] = {\\n')\n",
    "\n",
    "    def writeRow(row):\n",
    "      f.write('  {')\n",
    "      for el in row[0:-1]:\n",
    "        if el < 0:\n",
    "          el = 0\n",
    "        f.write(f'{int(el)},')\n",
    "      el = row[-1]\n",
    "      if el < 0:\n",
    "        el = 0\n",
    "      f.write(f'{int(el)}'+'}')\n",
    "\n",
    "    for row in matrix[0:-1]:\n",
    "      writeRow(row)\n",
    "      f.write(',\\n')\n",
    "    writeRow(matrix[-1])\n",
    "    f.write('\\n};\\n')\n",
    "\n",
    "matrix_to_C(fire_map, \"map.txt\")"
   ]
  },
  {
   "cell_type": "code",
   "source": [],
   "metadata": {
    "id": "j3n2JnKi9yg7",
    "pycharm": {
     "name": "#%%\n"
    }
   },
   "execution_count": null,
   "outputs": []
  }
 ],
 "metadata": {
  "colab": {
   "provenance": []
  },
  "kernelspec": {
   "display_name": "Python 3",
   "name": "python3"
  },
  "language_info": {
   "name": "python"
  },
  "widgets": {
   "application/vnd.jupyter.widget-state+json": {
    "1cb2620fad834b7ebd11c6e7d58b1b58": {
     "model_module": "@jupyter-widgets/controls",
     "model_name": "IntSliderModel",
     "model_module_version": "1.5.0",
     "state": {
      "_dom_classes": [],
      "_model_module": "@jupyter-widgets/controls",
      "_model_module_version": "1.5.0",
      "_model_name": "IntSliderModel",
      "_view_count": null,
      "_view_module": "@jupyter-widgets/controls",
      "_view_module_version": "1.5.0",
      "_view_name": "IntSliderView",
      "continuous_update": true,
      "description": "N",
      "description_tooltip": null,
      "disabled": false,
      "layout": "IPY_MODEL_28a08d2b756f4e129520a09f3563382c",
      "max": 30,
      "min": 1,
      "orientation": "horizontal",
      "readout": true,
      "readout_format": "d",
      "step": 1,
      "style": "IPY_MODEL_70dc84126fae41ec92d97f3b74f724e2",
      "value": 10
     }
    },
    "28a08d2b756f4e129520a09f3563382c": {
     "model_module": "@jupyter-widgets/base",
     "model_name": "LayoutModel",
     "model_module_version": "1.2.0",
     "state": {
      "_model_module": "@jupyter-widgets/base",
      "_model_module_version": "1.2.0",
      "_model_name": "LayoutModel",
      "_view_count": null,
      "_view_module": "@jupyter-widgets/base",
      "_view_module_version": "1.2.0",
      "_view_name": "LayoutView",
      "align_content": null,
      "align_items": null,
      "align_self": null,
      "border": null,
      "bottom": null,
      "display": null,
      "flex": null,
      "flex_flow": null,
      "grid_area": null,
      "grid_auto_columns": null,
      "grid_auto_flow": null,
      "grid_auto_rows": null,
      "grid_column": null,
      "grid_gap": null,
      "grid_row": null,
      "grid_template_areas": null,
      "grid_template_columns": null,
      "grid_template_rows": null,
      "height": null,
      "justify_content": null,
      "justify_items": null,
      "left": null,
      "margin": null,
      "max_height": null,
      "max_width": null,
      "min_height": null,
      "min_width": null,
      "object_fit": null,
      "object_position": null,
      "order": null,
      "overflow": null,
      "overflow_x": null,
      "overflow_y": null,
      "padding": null,
      "right": null,
      "top": null,
      "visibility": null,
      "width": null
     }
    },
    "70dc84126fae41ec92d97f3b74f724e2": {
     "model_module": "@jupyter-widgets/controls",
     "model_name": "SliderStyleModel",
     "model_module_version": "1.5.0",
     "state": {
      "_model_module": "@jupyter-widgets/controls",
      "_model_module_version": "1.5.0",
      "_model_name": "SliderStyleModel",
      "_view_count": null,
      "_view_module": "@jupyter-widgets/base",
      "_view_module_version": "1.2.0",
      "_view_name": "StyleView",
      "description_width": "",
      "handle_color": null
     }
    },
    "1ba19be445824251a729e4aea37bcb0d": {
     "model_module": "@jupyter-widgets/controls",
     "model_name": "IntSliderModel",
     "model_module_version": "1.5.0",
     "state": {
      "_dom_classes": [],
      "_model_module": "@jupyter-widgets/controls",
      "_model_module_version": "1.5.0",
      "_model_name": "IntSliderModel",
      "_view_count": null,
      "_view_module": "@jupyter-widgets/controls",
      "_view_module_version": "1.5.0",
      "_view_name": "IntSliderView",
      "continuous_update": true,
      "description": "M",
      "description_tooltip": null,
      "disabled": false,
      "layout": "IPY_MODEL_87587329eb84421fa61fae5f09504abf",
      "max": 30,
      "min": 1,
      "orientation": "horizontal",
      "readout": true,
      "readout_format": "d",
      "step": 1,
      "style": "IPY_MODEL_7a7aa1a27b0b48c3b0733ff01a9ed1d8",
      "value": 10
     }
    },
    "87587329eb84421fa61fae5f09504abf": {
     "model_module": "@jupyter-widgets/base",
     "model_name": "LayoutModel",
     "model_module_version": "1.2.0",
     "state": {
      "_model_module": "@jupyter-widgets/base",
      "_model_module_version": "1.2.0",
      "_model_name": "LayoutModel",
      "_view_count": null,
      "_view_module": "@jupyter-widgets/base",
      "_view_module_version": "1.2.0",
      "_view_name": "LayoutView",
      "align_content": null,
      "align_items": null,
      "align_self": null,
      "border": null,
      "bottom": null,
      "display": null,
      "flex": null,
      "flex_flow": null,
      "grid_area": null,
      "grid_auto_columns": null,
      "grid_auto_flow": null,
      "grid_auto_rows": null,
      "grid_column": null,
      "grid_gap": null,
      "grid_row": null,
      "grid_template_areas": null,
      "grid_template_columns": null,
      "grid_template_rows": null,
      "height": null,
      "justify_content": null,
      "justify_items": null,
      "left": null,
      "margin": null,
      "max_height": null,
      "max_width": null,
      "min_height": null,
      "min_width": null,
      "object_fit": null,
      "object_position": null,
      "order": null,
      "overflow": null,
      "overflow_x": null,
      "overflow_y": null,
      "padding": null,
      "right": null,
      "top": null,
      "visibility": null,
      "width": null
     }
    },
    "7a7aa1a27b0b48c3b0733ff01a9ed1d8": {
     "model_module": "@jupyter-widgets/controls",
     "model_name": "SliderStyleModel",
     "model_module_version": "1.5.0",
     "state": {
      "_model_module": "@jupyter-widgets/controls",
      "_model_module_version": "1.5.0",
      "_model_name": "SliderStyleModel",
      "_view_count": null,
      "_view_module": "@jupyter-widgets/base",
      "_view_module_version": "1.2.0",
      "_view_name": "StyleView",
      "description_width": "",
      "handle_color": null
     }
    },
    "439442024e6f4838908a1e3c005ceac0": {
     "model_module": "@jupyter-widgets/controls",
     "model_name": "IntSliderModel",
     "model_module_version": "1.5.0",
     "state": {
      "_dom_classes": [],
      "_model_module": "@jupyter-widgets/controls",
      "_model_module_version": "1.5.0",
      "_model_name": "IntSliderModel",
      "_view_count": null,
      "_view_module": "@jupyter-widgets/controls",
      "_view_module_version": "1.5.0",
      "_view_name": "IntSliderView",
      "continuous_update": true,
      "description": "fire",
      "description_tooltip": null,
      "disabled": false,
      "layout": "IPY_MODEL_d7b810e306544078ba190757c335273d",
      "max": 20,
      "min": 1,
      "orientation": "horizontal",
      "readout": true,
      "readout_format": "d",
      "step": 1,
      "style": "IPY_MODEL_7bd7040ae28c4c0898c3d5a81c935ed6",
      "value": 5
     }
    },
    "d7b810e306544078ba190757c335273d": {
     "model_module": "@jupyter-widgets/base",
     "model_name": "LayoutModel",
     "model_module_version": "1.2.0",
     "state": {
      "_model_module": "@jupyter-widgets/base",
      "_model_module_version": "1.2.0",
      "_model_name": "LayoutModel",
      "_view_count": null,
      "_view_module": "@jupyter-widgets/base",
      "_view_module_version": "1.2.0",
      "_view_name": "LayoutView",
      "align_content": null,
      "align_items": null,
      "align_self": null,
      "border": null,
      "bottom": null,
      "display": null,
      "flex": null,
      "flex_flow": null,
      "grid_area": null,
      "grid_auto_columns": null,
      "grid_auto_flow": null,
      "grid_auto_rows": null,
      "grid_column": null,
      "grid_gap": null,
      "grid_row": null,
      "grid_template_areas": null,
      "grid_template_columns": null,
      "grid_template_rows": null,
      "height": null,
      "justify_content": null,
      "justify_items": null,
      "left": null,
      "margin": null,
      "max_height": null,
      "max_width": null,
      "min_height": null,
      "min_width": null,
      "object_fit": null,
      "object_position": null,
      "order": null,
      "overflow": null,
      "overflow_x": null,
      "overflow_y": null,
      "padding": null,
      "right": null,
      "top": null,
      "visibility": null,
      "width": null
     }
    },
    "7bd7040ae28c4c0898c3d5a81c935ed6": {
     "model_module": "@jupyter-widgets/controls",
     "model_name": "SliderStyleModel",
     "model_module_version": "1.5.0",
     "state": {
      "_model_module": "@jupyter-widgets/controls",
      "_model_module_version": "1.5.0",
      "_model_name": "SliderStyleModel",
      "_view_count": null,
      "_view_module": "@jupyter-widgets/base",
      "_view_module_version": "1.2.0",
      "_view_name": "StyleView",
      "description_width": "",
      "handle_color": null
     }
    },
    "61a90790f9ac458589ea822f321a063c": {
     "model_module": "@jupyter-widgets/controls",
     "model_name": "IntSliderModel",
     "model_module_version": "1.5.0",
     "state": {
      "_dom_classes": [],
      "_model_module": "@jupyter-widgets/controls",
      "_model_module_version": "1.5.0",
      "_model_name": "IntSliderModel",
      "_view_count": null,
      "_view_module": "@jupyter-widgets/controls",
      "_view_module_version": "1.5.0",
      "_view_name": "IntSliderView",
      "continuous_update": true,
      "description": "first responders",
      "description_tooltip": null,
      "disabled": false,
      "layout": "IPY_MODEL_625d6d6f08154e0b9bac0198498be6c0",
      "max": 20,
      "min": 1,
      "orientation": "horizontal",
      "readout": true,
      "readout_format": "d",
      "step": 1,
      "style": "IPY_MODEL_edcb0e0a70f9463895c955298ac0c9de",
      "value": 5
     }
    },
    "625d6d6f08154e0b9bac0198498be6c0": {
     "model_module": "@jupyter-widgets/base",
     "model_name": "LayoutModel",
     "model_module_version": "1.2.0",
     "state": {
      "_model_module": "@jupyter-widgets/base",
      "_model_module_version": "1.2.0",
      "_model_name": "LayoutModel",
      "_view_count": null,
      "_view_module": "@jupyter-widgets/base",
      "_view_module_version": "1.2.0",
      "_view_name": "LayoutView",
      "align_content": null,
      "align_items": null,
      "align_self": null,
      "border": null,
      "bottom": null,
      "display": null,
      "flex": null,
      "flex_flow": null,
      "grid_area": null,
      "grid_auto_columns": null,
      "grid_auto_flow": null,
      "grid_auto_rows": null,
      "grid_column": null,
      "grid_gap": null,
      "grid_row": null,
      "grid_template_areas": null,
      "grid_template_columns": null,
      "grid_template_rows": null,
      "height": null,
      "justify_content": null,
      "justify_items": null,
      "left": null,
      "margin": null,
      "max_height": null,
      "max_width": null,
      "min_height": null,
      "min_width": null,
      "object_fit": null,
      "object_position": null,
      "order": null,
      "overflow": null,
      "overflow_x": null,
      "overflow_y": null,
      "padding": null,
      "right": null,
      "top": null,
      "visibility": null,
      "width": null
     }
    },
    "edcb0e0a70f9463895c955298ac0c9de": {
     "model_module": "@jupyter-widgets/controls",
     "model_name": "SliderStyleModel",
     "model_module_version": "1.5.0",
     "state": {
      "_model_module": "@jupyter-widgets/controls",
      "_model_module_version": "1.5.0",
      "_model_name": "SliderStyleModel",
      "_view_count": null,
      "_view_module": "@jupyter-widgets/base",
      "_view_module_version": "1.2.0",
      "_view_name": "StyleView",
      "description_width": "",
      "handle_color": null
     }
    },
    "cb1e5587aaa8480d86a22c699cc5ce6e": {
     "model_module": "@jupyter-widgets/controls",
     "model_name": "IntSliderModel",
     "model_module_version": "1.5.0",
     "state": {
      "_dom_classes": [],
      "_model_module": "@jupyter-widgets/controls",
      "_model_module_version": "1.5.0",
      "_model_name": "IntSliderModel",
      "_view_count": null,
      "_view_module": "@jupyter-widgets/controls",
      "_view_module_version": "1.5.0",
      "_view_name": "IntSliderView",
      "continuous_update": true,
      "description": "victims",
      "description_tooltip": null,
      "disabled": false,
      "layout": "IPY_MODEL_1a9a711599684ffdb74f2e8b5ee2bdf8",
      "max": 20,
      "min": 1,
      "orientation": "horizontal",
      "readout": true,
      "readout_format": "d",
      "step": 1,
      "style": "IPY_MODEL_6b09c77ef84448ee90397599a729526f",
      "value": 5
     }
    },
    "1a9a711599684ffdb74f2e8b5ee2bdf8": {
     "model_module": "@jupyter-widgets/base",
     "model_name": "LayoutModel",
     "model_module_version": "1.2.0",
     "state": {
      "_model_module": "@jupyter-widgets/base",
      "_model_module_version": "1.2.0",
      "_model_name": "LayoutModel",
      "_view_count": null,
      "_view_module": "@jupyter-widgets/base",
      "_view_module_version": "1.2.0",
      "_view_name": "LayoutView",
      "align_content": null,
      "align_items": null,
      "align_self": null,
      "border": null,
      "bottom": null,
      "display": null,
      "flex": null,
      "flex_flow": null,
      "grid_area": null,
      "grid_auto_columns": null,
      "grid_auto_flow": null,
      "grid_auto_rows": null,
      "grid_column": null,
      "grid_gap": null,
      "grid_row": null,
      "grid_template_areas": null,
      "grid_template_columns": null,
      "grid_template_rows": null,
      "height": null,
      "justify_content": null,
      "justify_items": null,
      "left": null,
      "margin": null,
      "max_height": null,
      "max_width": null,
      "min_height": null,
      "min_width": null,
      "object_fit": null,
      "object_position": null,
      "order": null,
      "overflow": null,
      "overflow_x": null,
      "overflow_y": null,
      "padding": null,
      "right": null,
      "top": null,
      "visibility": null,
      "width": null
     }
    },
    "6b09c77ef84448ee90397599a729526f": {
     "model_module": "@jupyter-widgets/controls",
     "model_name": "SliderStyleModel",
     "model_module_version": "1.5.0",
     "state": {
      "_model_module": "@jupyter-widgets/controls",
      "_model_module_version": "1.5.0",
      "_model_name": "SliderStyleModel",
      "_view_count": null,
      "_view_module": "@jupyter-widgets/base",
      "_view_module_version": "1.2.0",
      "_view_name": "StyleView",
      "description_width": "",
      "handle_color": null
     }
    },
    "bc183c963de347ec92df0f1b62180b51": {
     "model_module": "@jupyter-widgets/controls",
     "model_name": "IntSliderModel",
     "model_module_version": "1.5.0",
     "state": {
      "_dom_classes": [],
      "_model_module": "@jupyter-widgets/controls",
      "_model_module_version": "1.5.0",
      "_model_name": "IntSliderModel",
      "_view_count": null,
      "_view_module": "@jupyter-widgets/controls",
      "_view_module_version": "1.5.0",
      "_view_name": "IntSliderView",
      "continuous_update": true,
      "description": "civilians",
      "description_tooltip": null,
      "disabled": false,
      "layout": "IPY_MODEL_0ea201f0556d4ba3b5462f153c24fd37",
      "max": 20,
      "min": 1,
      "orientation": "horizontal",
      "readout": true,
      "readout_format": "d",
      "step": 1,
      "style": "IPY_MODEL_9cca9fbc336f4a438b21cc12bcbc282d",
      "value": 5
     }
    },
    "0ea201f0556d4ba3b5462f153c24fd37": {
     "model_module": "@jupyter-widgets/base",
     "model_name": "LayoutModel",
     "model_module_version": "1.2.0",
     "state": {
      "_model_module": "@jupyter-widgets/base",
      "_model_module_version": "1.2.0",
      "_model_name": "LayoutModel",
      "_view_count": null,
      "_view_module": "@jupyter-widgets/base",
      "_view_module_version": "1.2.0",
      "_view_name": "LayoutView",
      "align_content": null,
      "align_items": null,
      "align_self": null,
      "border": null,
      "bottom": null,
      "display": null,
      "flex": null,
      "flex_flow": null,
      "grid_area": null,
      "grid_auto_columns": null,
      "grid_auto_flow": null,
      "grid_auto_rows": null,
      "grid_column": null,
      "grid_gap": null,
      "grid_row": null,
      "grid_template_areas": null,
      "grid_template_columns": null,
      "grid_template_rows": null,
      "height": null,
      "justify_content": null,
      "justify_items": null,
      "left": null,
      "margin": null,
      "max_height": null,
      "max_width": null,
      "min_height": null,
      "min_width": null,
      "object_fit": null,
      "object_position": null,
      "order": null,
      "overflow": null,
      "overflow_x": null,
      "overflow_y": null,
      "padding": null,
      "right": null,
      "top": null,
      "visibility": null,
      "width": null
     }
    },
    "9cca9fbc336f4a438b21cc12bcbc282d": {
     "model_module": "@jupyter-widgets/controls",
     "model_name": "SliderStyleModel",
     "model_module_version": "1.5.0",
     "state": {
      "_model_module": "@jupyter-widgets/controls",
      "_model_module_version": "1.5.0",
      "_model_name": "SliderStyleModel",
      "_view_count": null,
      "_view_module": "@jupyter-widgets/base",
      "_view_module_version": "1.2.0",
      "_view_name": "StyleView",
      "description_width": "",
      "handle_color": null
     }
    },
    "dff405aa25ce484f9a626599f092ea15": {
     "model_module": "@jupyter-widgets/controls",
     "model_name": "SelectionSliderModel",
     "model_module_version": "1.5.0",
     "state": {
      "_dom_classes": [],
      "_model_module": "@jupyter-widgets/controls",
      "_model_module_version": "1.5.0",
      "_model_name": "SelectionSliderModel",
      "_options_labels": [
       "1",
       "2",
       "4"
      ],
      "_view_count": null,
      "_view_module": "@jupyter-widgets/controls",
      "_view_module_version": "1.5.0",
      "_view_name": "SelectionSliderView",
      "continuous_update": true,
      "description": "drones",
      "description_tooltip": null,
      "disabled": false,
      "index": 0,
      "layout": "IPY_MODEL_70659090c4ac466b898d665d94d30161",
      "orientation": "horizontal",
      "readout": true,
      "style": "IPY_MODEL_d072e7476a4349c28661140e5333c6b0"
     }
    },
    "70659090c4ac466b898d665d94d30161": {
     "model_module": "@jupyter-widgets/base",
     "model_name": "LayoutModel",
     "model_module_version": "1.2.0",
     "state": {
      "_model_module": "@jupyter-widgets/base",
      "_model_module_version": "1.2.0",
      "_model_name": "LayoutModel",
      "_view_count": null,
      "_view_module": "@jupyter-widgets/base",
      "_view_module_version": "1.2.0",
      "_view_name": "LayoutView",
      "align_content": null,
      "align_items": null,
      "align_self": null,
      "border": null,
      "bottom": null,
      "display": null,
      "flex": null,
      "flex_flow": null,
      "grid_area": null,
      "grid_auto_columns": null,
      "grid_auto_flow": null,
      "grid_auto_rows": null,
      "grid_column": null,
      "grid_gap": null,
      "grid_row": null,
      "grid_template_areas": null,
      "grid_template_columns": null,
      "grid_template_rows": null,
      "height": null,
      "justify_content": null,
      "justify_items": null,
      "left": null,
      "margin": null,
      "max_height": null,
      "max_width": null,
      "min_height": null,
      "min_width": null,
      "object_fit": null,
      "object_position": null,
      "order": null,
      "overflow": null,
      "overflow_x": null,
      "overflow_y": null,
      "padding": null,
      "right": null,
      "top": null,
      "visibility": null,
      "width": null
     }
    },
    "d072e7476a4349c28661140e5333c6b0": {
     "model_module": "@jupyter-widgets/controls",
     "model_name": "DescriptionStyleModel",
     "model_module_version": "1.5.0",
     "state": {
      "_model_module": "@jupyter-widgets/controls",
      "_model_module_version": "1.5.0",
      "_model_name": "DescriptionStyleModel",
      "_view_count": null,
      "_view_module": "@jupyter-widgets/base",
      "_view_module_version": "1.2.0",
      "_view_name": "StyleView",
      "description_width": ""
     }
    },
    "6b7c42e3148f4f1a8fbdb625cf173a6d": {
     "model_module": "@jupyter-widgets/controls",
     "model_name": "SelectionSliderModel",
     "model_module_version": "1.5.0",
     "state": {
      "_dom_classes": [],
      "_model_module": "@jupyter-widgets/controls",
      "_model_module_version": "1.5.0",
      "_model_name": "SelectionSliderModel",
      "_options_labels": [
       "1",
       "2",
       "4"
      ],
      "_view_count": null,
      "_view_module": "@jupyter-widgets/controls",
      "_view_module_version": "1.5.0",
      "_view_name": "SelectionSliderView",
      "continuous_update": true,
      "description": "exit",
      "description_tooltip": null,
      "disabled": false,
      "index": 1,
      "layout": "IPY_MODEL_553d06955f554c5989db4d1f03ab34de",
      "orientation": "horizontal",
      "readout": true,
      "style": "IPY_MODEL_7cb139ef9c2440f8b9fb5b751769e518"
     }
    },
    "553d06955f554c5989db4d1f03ab34de": {
     "model_module": "@jupyter-widgets/base",
     "model_name": "LayoutModel",
     "model_module_version": "1.2.0",
     "state": {
      "_model_module": "@jupyter-widgets/base",
      "_model_module_version": "1.2.0",
      "_model_name": "LayoutModel",
      "_view_count": null,
      "_view_module": "@jupyter-widgets/base",
      "_view_module_version": "1.2.0",
      "_view_name": "LayoutView",
      "align_content": null,
      "align_items": null,
      "align_self": null,
      "border": null,
      "bottom": null,
      "display": null,
      "flex": null,
      "flex_flow": null,
      "grid_area": null,
      "grid_auto_columns": null,
      "grid_auto_flow": null,
      "grid_auto_rows": null,
      "grid_column": null,
      "grid_gap": null,
      "grid_row": null,
      "grid_template_areas": null,
      "grid_template_columns": null,
      "grid_template_rows": null,
      "height": null,
      "justify_content": null,
      "justify_items": null,
      "left": null,
      "margin": null,
      "max_height": null,
      "max_width": null,
      "min_height": null,
      "min_width": null,
      "object_fit": null,
      "object_position": null,
      "order": null,
      "overflow": null,
      "overflow_x": null,
      "overflow_y": null,
      "padding": null,
      "right": null,
      "top": null,
      "visibility": null,
      "width": null
     }
    },
    "7cb139ef9c2440f8b9fb5b751769e518": {
     "model_module": "@jupyter-widgets/controls",
     "model_name": "DescriptionStyleModel",
     "model_module_version": "1.5.0",
     "state": {
      "_model_module": "@jupyter-widgets/controls",
      "_model_module_version": "1.5.0",
      "_model_name": "DescriptionStyleModel",
      "_view_count": null,
      "_view_module": "@jupyter-widgets/base",
      "_view_module_version": "1.2.0",
      "_view_name": "StyleView",
      "description_width": ""
     }
    },
    "5d692386ba8c4178bc5cbd428a246fc7": {
     "model_module": "@jupyter-widgets/controls",
     "model_name": "IntSliderModel",
     "model_module_version": "1.5.0",
     "state": {
      "_dom_classes": [],
      "_model_module": "@jupyter-widgets/controls",
      "_model_module_version": "1.5.0",
      "_model_name": "IntSliderModel",
      "_view_count": null,
      "_view_module": "@jupyter-widgets/controls",
      "_view_module_version": "1.5.0",
      "_view_name": "IntSliderView",
      "continuous_update": true,
      "description": "visibility 0",
      "description_tooltip": null,
      "disabled": false,
      "layout": "IPY_MODEL_d5a619a2b7bc4000a255388077031f47",
      "max": 5,
      "min": 1,
      "orientation": "horizontal",
      "readout": true,
      "readout_format": "d",
      "step": 1,
      "style": "IPY_MODEL_0169682315e24b4087def3f20b5da86c",
      "value": 2
     }
    },
    "d5a619a2b7bc4000a255388077031f47": {
     "model_module": "@jupyter-widgets/base",
     "model_name": "LayoutModel",
     "model_module_version": "1.2.0",
     "state": {
      "_model_module": "@jupyter-widgets/base",
      "_model_module_version": "1.2.0",
      "_model_name": "LayoutModel",
      "_view_count": null,
      "_view_module": "@jupyter-widgets/base",
      "_view_module_version": "1.2.0",
      "_view_name": "LayoutView",
      "align_content": null,
      "align_items": null,
      "align_self": null,
      "border": null,
      "bottom": null,
      "display": null,
      "flex": null,
      "flex_flow": null,
      "grid_area": null,
      "grid_auto_columns": null,
      "grid_auto_flow": null,
      "grid_auto_rows": null,
      "grid_column": null,
      "grid_gap": null,
      "grid_row": null,
      "grid_template_areas": null,
      "grid_template_columns": null,
      "grid_template_rows": null,
      "height": null,
      "justify_content": null,
      "justify_items": null,
      "left": null,
      "margin": null,
      "max_height": null,
      "max_width": null,
      "min_height": null,
      "min_width": null,
      "object_fit": null,
      "object_position": null,
      "order": null,
      "overflow": null,
      "overflow_x": null,
      "overflow_y": null,
      "padding": null,
      "right": null,
      "top": null,
      "visibility": null,
      "width": null
     }
    },
    "0169682315e24b4087def3f20b5da86c": {
     "model_module": "@jupyter-widgets/controls",
     "model_name": "SliderStyleModel",
     "model_module_version": "1.5.0",
     "state": {
      "_model_module": "@jupyter-widgets/controls",
      "_model_module_version": "1.5.0",
      "_model_name": "SliderStyleModel",
      "_view_count": null,
      "_view_module": "@jupyter-widgets/base",
      "_view_module_version": "1.2.0",
      "_view_name": "StyleView",
      "description_width": "",
      "handle_color": null
     }
    }
   }
  }
 },
 "nbformat": 4,
 "nbformat_minor": 0
}